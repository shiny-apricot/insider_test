{
 "cells": [
  {
   "cell_type": "code",
   "execution_count": 2,
   "metadata": {},
   "outputs": [],
   "source": [
    "import pandas as pd\n",
    "import numpy as np\n",
    "import matplotlib.pyplot as plt"
   ]
  },
  {
   "cell_type": "code",
   "execution_count": 3,
   "metadata": {},
   "outputs": [],
   "source": [
    "# fetch football data from season-1819.csv\n",
    "df = pd.read_csv(\"team_statistics/season-1819.csv\")     "
   ]
  },
  {
   "cell_type": "code",
   "execution_count": 4,
   "metadata": {},
   "outputs": [
    {
     "name": "stdout",
     "output_type": "stream",
     "text": [
      "Index(['Div', 'Date', 'HomeTeam', 'AwayTeam', 'FTHG', 'FTAG', 'FTR', 'HTHG',\n",
      "       'HTAG', 'HTR', 'Referee', 'HS', 'AS', 'HST', 'AST', 'HF', 'AF', 'HC',\n",
      "       'AC', 'HY', 'AY', 'HR', 'AR', 'B365H', 'B365D', 'B365A', 'BWH', 'BWD',\n",
      "       'BWA', 'IWH', 'IWD', 'IWA', 'PSH', 'PSD', 'PSA', 'WHH', 'WHD', 'WHA',\n",
      "       'VCH', 'VCD', 'VCA', 'Bb1X2', 'BbMxH', 'BbAvH', 'BbMxD', 'BbAvD',\n",
      "       'BbMxA', 'BbAvA', 'BbOU', 'BbMx>2.5', 'BbAv>2.5', 'BbMx<2.5',\n",
      "       'BbAv<2.5', 'BbAH', 'BbAHh', 'BbMxAHH', 'BbAvAHH', 'BbMxAHA', 'BbAvAHA',\n",
      "       'PSCH', 'PSCD', 'PSCA'],\n",
      "      dtype='object')\n"
     ]
    }
   ],
   "source": [
    "print(df.columns)"
   ]
  },
  {
   "cell_type": "code",
   "execution_count": 5,
   "metadata": {},
   "outputs": [
    {
     "data": {
      "text/html": [
       "<div><div id=940b8f43-8328-4b42-a68f-4604ce9e3c8f style=\"display:none; background-color:#9D6CFF; color:white; width:200px; height:30px; padding-left:5px; border-radius:4px; flex-direction:row; justify-content:space-around; align-items:center;\" onmouseover=\"this.style.backgroundColor='#BA9BF8'\" onmouseout=\"this.style.backgroundColor='#9D6CFF'\" onclick=\"window.commands?.execute('create-mitosheet-from-dataframe-output');\">See Full Dataframe in Mito</div> <script> if (window.commands.hasCommand('create-mitosheet-from-dataframe-output')) document.getElementById('940b8f43-8328-4b42-a68f-4604ce9e3c8f').style.display = 'flex' </script> <table border=\"1\" class=\"dataframe\">\n",
       "  <thead>\n",
       "    <tr style=\"text-align: right;\">\n",
       "      <th></th>\n",
       "      <th>HomeTeam</th>\n",
       "      <th>AwayTeam</th>\n",
       "      <th>FTHG</th>\n",
       "      <th>FTAG</th>\n",
       "    </tr>\n",
       "  </thead>\n",
       "  <tbody>\n",
       "    <tr>\n",
       "      <th>0</th>\n",
       "      <td>Man United</td>\n",
       "      <td>Leicester</td>\n",
       "      <td>2</td>\n",
       "      <td>1</td>\n",
       "    </tr>\n",
       "  </tbody>\n",
       "</table></div>"
      ],
      "text/plain": [
       "     HomeTeam   AwayTeam  FTHG  FTAG\n",
       "0  Man United  Leicester     2     1"
      ]
     },
     "execution_count": 5,
     "metadata": {},
     "output_type": "execute_result"
    }
   ],
   "source": [
    "# take only the 'HomeTeam' , 'AwayTeam' , 'FTHG' , 'FTAG' columns\n",
    "df = df[['HomeTeam', 'AwayTeam', 'FTHG', 'FTAG']]\n",
    "df.head(1)"
   ]
  },
  {
   "cell_type": "code",
   "execution_count": 6,
   "metadata": {},
   "outputs": [],
   "source": [
    "# calculate average goal and standard deviation for each team along\n",
    "df_avg_home = df.groupby(['HomeTeam']).mean()\n",
    "df_std_home = df.groupby(['HomeTeam']).std()\n",
    "df_avg_away = df.groupby(['AwayTeam']).mean()\n",
    "df_std_away = df.groupby(['AwayTeam']).std()"
   ]
  },
  {
   "cell_type": "code",
   "execution_count": 7,
   "metadata": {},
   "outputs": [
    {
     "name": "stdout",
     "output_type": "stream",
     "text": [
      "380 MATCHES in total\n",
      "20 TEAMS in total\n"
     ]
    }
   ],
   "source": [
    "print(df.shape[0],\"MATCHES in total\"); print(df_avg_home.shape[0], \"TEAMS in total\")"
   ]
  },
  {
   "cell_type": "code",
   "execution_count": 8,
   "metadata": {},
   "outputs": [],
   "source": [
    "# change the column names\n",
    "df_avg_home.columns = ['attack_avg_home', 'defence_avg_home']\n",
    "df_std_home.columns = ['attack_std_home', 'defence_std_home']\n",
    "df_avg_away.columns = ['defence_avg_away', 'attack_avg_away']\n",
    "df_std_away.columns = ['defence_std_away', 'attack_std_away']"
   ]
  },
  {
   "cell_type": "code",
   "execution_count": 9,
   "metadata": {},
   "outputs": [
    {
     "data": {
      "text/html": [
       "<div><div id=f0887c3a-90a1-401a-9907-067b2558999b style=\"display:none; background-color:#9D6CFF; color:white; width:200px; height:30px; padding-left:5px; border-radius:4px; flex-direction:row; justify-content:space-around; align-items:center;\" onmouseover=\"this.style.backgroundColor='#BA9BF8'\" onmouseout=\"this.style.backgroundColor='#9D6CFF'\" onclick=\"window.commands?.execute('create-mitosheet-from-dataframe-output');\">See Full Dataframe in Mito</div> <script> if (window.commands.hasCommand('create-mitosheet-from-dataframe-output')) document.getElementById('f0887c3a-90a1-401a-9907-067b2558999b').style.display = 'flex' </script> <table border=\"1\" class=\"dataframe\">\n",
       "  <thead>\n",
       "    <tr style=\"text-align: right;\">\n",
       "      <th></th>\n",
       "      <th>attack_avg_home</th>\n",
       "      <th>defence_avg_home</th>\n",
       "    </tr>\n",
       "    <tr>\n",
       "      <th>HomeTeam</th>\n",
       "      <th></th>\n",
       "      <th></th>\n",
       "    </tr>\n",
       "  </thead>\n",
       "  <tbody>\n",
       "    <tr>\n",
       "      <th>Arsenal</th>\n",
       "      <td>2.210526</td>\n",
       "      <td>0.842105</td>\n",
       "    </tr>\n",
       "  </tbody>\n",
       "</table></div>"
      ],
      "text/plain": [
       "          attack_avg_home  defence_avg_home\n",
       "HomeTeam                                   \n",
       "Arsenal          2.210526          0.842105"
      ]
     },
     "metadata": {},
     "output_type": "display_data"
    },
    {
     "data": {
      "text/html": [
       "<div><div id=35dc90ad-f6a1-4eb2-8e74-ca4728ff0282 style=\"display:none; background-color:#9D6CFF; color:white; width:200px; height:30px; padding-left:5px; border-radius:4px; flex-direction:row; justify-content:space-around; align-items:center;\" onmouseover=\"this.style.backgroundColor='#BA9BF8'\" onmouseout=\"this.style.backgroundColor='#9D6CFF'\" onclick=\"window.commands?.execute('create-mitosheet-from-dataframe-output');\">See Full Dataframe in Mito</div> <script> if (window.commands.hasCommand('create-mitosheet-from-dataframe-output')) document.getElementById('35dc90ad-f6a1-4eb2-8e74-ca4728ff0282').style.display = 'flex' </script> <table border=\"1\" class=\"dataframe\">\n",
       "  <thead>\n",
       "    <tr style=\"text-align: right;\">\n",
       "      <th></th>\n",
       "      <th>attack_std_home</th>\n",
       "      <th>defence_std_home</th>\n",
       "    </tr>\n",
       "    <tr>\n",
       "      <th>HomeTeam</th>\n",
       "      <th></th>\n",
       "      <th></th>\n",
       "    </tr>\n",
       "  </thead>\n",
       "  <tbody>\n",
       "    <tr>\n",
       "      <th>Arsenal</th>\n",
       "      <td>1.228321</td>\n",
       "      <td>0.83421</td>\n",
       "    </tr>\n",
       "  </tbody>\n",
       "</table></div>"
      ],
      "text/plain": [
       "          attack_std_home  defence_std_home\n",
       "HomeTeam                                   \n",
       "Arsenal          1.228321           0.83421"
      ]
     },
     "metadata": {},
     "output_type": "display_data"
    },
    {
     "data": {
      "text/html": [
       "<div><div id=e6909553-5182-41ef-b2d2-b201d4692113 style=\"display:none; background-color:#9D6CFF; color:white; width:200px; height:30px; padding-left:5px; border-radius:4px; flex-direction:row; justify-content:space-around; align-items:center;\" onmouseover=\"this.style.backgroundColor='#BA9BF8'\" onmouseout=\"this.style.backgroundColor='#9D6CFF'\" onclick=\"window.commands?.execute('create-mitosheet-from-dataframe-output');\">See Full Dataframe in Mito</div> <script> if (window.commands.hasCommand('create-mitosheet-from-dataframe-output')) document.getElementById('e6909553-5182-41ef-b2d2-b201d4692113').style.display = 'flex' </script> <table border=\"1\" class=\"dataframe\">\n",
       "  <thead>\n",
       "    <tr style=\"text-align: right;\">\n",
       "      <th></th>\n",
       "      <th>defence_avg_away</th>\n",
       "      <th>attack_avg_away</th>\n",
       "    </tr>\n",
       "    <tr>\n",
       "      <th>AwayTeam</th>\n",
       "      <th></th>\n",
       "      <th></th>\n",
       "    </tr>\n",
       "  </thead>\n",
       "  <tbody>\n",
       "    <tr>\n",
       "      <th>Arsenal</th>\n",
       "      <td>1.842105</td>\n",
       "      <td>1.631579</td>\n",
       "    </tr>\n",
       "  </tbody>\n",
       "</table></div>"
      ],
      "text/plain": [
       "          defence_avg_away  attack_avg_away\n",
       "AwayTeam                                   \n",
       "Arsenal           1.842105         1.631579"
      ]
     },
     "metadata": {},
     "output_type": "display_data"
    },
    {
     "data": {
      "text/html": [
       "<div><div id=20ca7e31-f2fd-4195-b0a7-5a5f77fe4be2 style=\"display:none; background-color:#9D6CFF; color:white; width:200px; height:30px; padding-left:5px; border-radius:4px; flex-direction:row; justify-content:space-around; align-items:center;\" onmouseover=\"this.style.backgroundColor='#BA9BF8'\" onmouseout=\"this.style.backgroundColor='#9D6CFF'\" onclick=\"window.commands?.execute('create-mitosheet-from-dataframe-output');\">See Full Dataframe in Mito</div> <script> if (window.commands.hasCommand('create-mitosheet-from-dataframe-output')) document.getElementById('20ca7e31-f2fd-4195-b0a7-5a5f77fe4be2').style.display = 'flex' </script> <table border=\"1\" class=\"dataframe\">\n",
       "  <thead>\n",
       "    <tr style=\"text-align: right;\">\n",
       "      <th></th>\n",
       "      <th>defence_std_away</th>\n",
       "      <th>attack_std_away</th>\n",
       "    </tr>\n",
       "    <tr>\n",
       "      <th>AwayTeam</th>\n",
       "      <th></th>\n",
       "      <th></th>\n",
       "    </tr>\n",
       "  </thead>\n",
       "  <tbody>\n",
       "    <tr>\n",
       "      <th>Arsenal</th>\n",
       "      <td>1.213954</td>\n",
       "      <td>1.211543</td>\n",
       "    </tr>\n",
       "  </tbody>\n",
       "</table></div>"
      ],
      "text/plain": [
       "          defence_std_away  attack_std_away\n",
       "AwayTeam                                   \n",
       "Arsenal           1.213954         1.211543"
      ]
     },
     "metadata": {},
     "output_type": "display_data"
    }
   ],
   "source": [
    "display(df_avg_home.head(1))\n",
    "display(df_std_home.head(1))\n",
    "display(df_avg_away.head(1))\n",
    "display(df_std_away.head(1))"
   ]
  },
  {
   "cell_type": "code",
   "execution_count": 10,
   "metadata": {},
   "outputs": [],
   "source": [
    "# concatenate the four dataframes\n",
    "df_avg = pd.concat([df_avg_home, df_avg_away], axis=1)\n",
    "df_std = pd.concat([df_std_home, df_std_away], axis=1)"
   ]
  },
  {
   "cell_type": "code",
   "execution_count": 11,
   "metadata": {},
   "outputs": [
    {
     "data": {
      "text/html": [
       "<div><div id=c1d0ef4f-3a1e-4a8c-9a65-8945845b9305 style=\"display:none; background-color:#9D6CFF; color:white; width:200px; height:30px; padding-left:5px; border-radius:4px; flex-direction:row; justify-content:space-around; align-items:center;\" onmouseover=\"this.style.backgroundColor='#BA9BF8'\" onmouseout=\"this.style.backgroundColor='#9D6CFF'\" onclick=\"window.commands?.execute('create-mitosheet-from-dataframe-output');\">See Full Dataframe in Mito</div> <script> if (window.commands.hasCommand('create-mitosheet-from-dataframe-output')) document.getElementById('c1d0ef4f-3a1e-4a8c-9a65-8945845b9305').style.display = 'flex' </script> <table border=\"1\" class=\"dataframe\">\n",
       "  <thead>\n",
       "    <tr style=\"text-align: right;\">\n",
       "      <th></th>\n",
       "      <th>attack_avg_home</th>\n",
       "      <th>defence_avg_home</th>\n",
       "      <th>defence_avg_away</th>\n",
       "      <th>attack_avg_away</th>\n",
       "    </tr>\n",
       "  </thead>\n",
       "  <tbody>\n",
       "    <tr>\n",
       "      <th>Arsenal</th>\n",
       "      <td>2.210526</td>\n",
       "      <td>0.842105</td>\n",
       "      <td>1.842105</td>\n",
       "      <td>1.631579</td>\n",
       "    </tr>\n",
       "    <tr>\n",
       "      <th>Bournemouth</th>\n",
       "      <td>1.578947</td>\n",
       "      <td>1.315789</td>\n",
       "      <td>2.368421</td>\n",
       "      <td>1.368421</td>\n",
       "    </tr>\n",
       "    <tr>\n",
       "      <th>Brighton</th>\n",
       "      <td>1.000000</td>\n",
       "      <td>1.473684</td>\n",
       "      <td>1.684211</td>\n",
       "      <td>0.842105</td>\n",
       "    </tr>\n",
       "  </tbody>\n",
       "</table></div>"
      ],
      "text/plain": [
       "             attack_avg_home  defence_avg_home  defence_avg_away  \\\n",
       "Arsenal             2.210526          0.842105          1.842105   \n",
       "Bournemouth         1.578947          1.315789          2.368421   \n",
       "Brighton            1.000000          1.473684          1.684211   \n",
       "\n",
       "             attack_avg_away  \n",
       "Arsenal             1.631579  \n",
       "Bournemouth         1.368421  \n",
       "Brighton            0.842105  "
      ]
     },
     "metadata": {},
     "output_type": "display_data"
    },
    {
     "data": {
      "text/html": [
       "<div><div id=62bdcbc6-caff-4e82-b8ef-80560a1f6e00 style=\"display:none; background-color:#9D6CFF; color:white; width:200px; height:30px; padding-left:5px; border-radius:4px; flex-direction:row; justify-content:space-around; align-items:center;\" onmouseover=\"this.style.backgroundColor='#BA9BF8'\" onmouseout=\"this.style.backgroundColor='#9D6CFF'\" onclick=\"window.commands?.execute('create-mitosheet-from-dataframe-output');\">See Full Dataframe in Mito</div> <script> if (window.commands.hasCommand('create-mitosheet-from-dataframe-output')) document.getElementById('62bdcbc6-caff-4e82-b8ef-80560a1f6e00').style.display = 'flex' </script> <table border=\"1\" class=\"dataframe\">\n",
       "  <thead>\n",
       "    <tr style=\"text-align: right;\">\n",
       "      <th></th>\n",
       "      <th>attack_std_home</th>\n",
       "      <th>defence_std_home</th>\n",
       "      <th>defence_std_away</th>\n",
       "      <th>attack_std_away</th>\n",
       "    </tr>\n",
       "  </thead>\n",
       "  <tbody>\n",
       "    <tr>\n",
       "      <th>Arsenal</th>\n",
       "      <td>1.228321</td>\n",
       "      <td>0.834210</td>\n",
       "      <td>1.213954</td>\n",
       "      <td>1.211543</td>\n",
       "    </tr>\n",
       "    <tr>\n",
       "      <th>Bournemouth</th>\n",
       "      <td>1.216360</td>\n",
       "      <td>1.204281</td>\n",
       "      <td>1.706541</td>\n",
       "      <td>1.570935</td>\n",
       "    </tr>\n",
       "    <tr>\n",
       "      <th>Brighton</th>\n",
       "      <td>0.881917</td>\n",
       "      <td>1.389181</td>\n",
       "      <td>1.002920</td>\n",
       "      <td>0.834210</td>\n",
       "    </tr>\n",
       "  </tbody>\n",
       "</table></div>"
      ],
      "text/plain": [
       "             attack_std_home  defence_std_home  defence_std_away  \\\n",
       "Arsenal             1.228321          0.834210          1.213954   \n",
       "Bournemouth         1.216360          1.204281          1.706541   \n",
       "Brighton            0.881917          1.389181          1.002920   \n",
       "\n",
       "             attack_std_away  \n",
       "Arsenal             1.211543  \n",
       "Bournemouth         1.570935  \n",
       "Brighton            0.834210  "
      ]
     },
     "metadata": {},
     "output_type": "display_data"
    }
   ],
   "source": [
    "display( df_avg.head(3) )\n",
    "display( df_std.head(3) )"
   ]
  },
  {
   "cell_type": "code",
   "execution_count": 23,
   "metadata": {},
   "outputs": [],
   "source": [
    "# save the dataframes to csv files\n",
    "df_avg.to_csv(\"team_statistics/avg_goals.csv\")\n",
    "df_std.to_csv(\"team_statistics/std_goals.csv\")"
   ]
  },
  {
   "cell_type": "code",
   "execution_count": 12,
   "metadata": {},
   "outputs": [
    {
     "name": "stdout",
     "output_type": "stream",
     "text": [
      "380  matches CREATED.\n",
      "example match= ('Arsenal', 'Bournemouth')\n"
     ]
    }
   ],
   "source": [
    "import random\n",
    "import itertools\n",
    "\n",
    "# create all the permutations of 20 teams\n",
    "team_list = list(df_avg.index)\n",
    "team_list_perm = list(itertools.permutations(team_list, 2))\n",
    "print(len(team_list_perm),\" matches CREATED.\"); print(\"example match=\",team_list_perm[0])"
   ]
  },
  {
   "cell_type": "code",
   "execution_count": 15,
   "metadata": {},
   "outputs": [],
   "source": [
    "# decide the scores for each match by considering the average, standard deviation, away and home\n",
    "scores = []\n",
    "for match in team_list_perm:\n",
    "    # calculate the scores for each match\n",
    "    # score for home team\n",
    "    score_home = random.normalvariate(df_avg.loc[match[0]]['attack_avg_home'], df_std.loc[match[0]]['attack_std_home'])\n",
    "    # score for away team\n",
    "    score_away = random.normalvariate(df_avg.loc[match[1]]['attack_avg_away'], df_std.loc[match[1]]['attack_std_away'])\n",
    "    # round the scores to closest integer\n",
    "    # if score < 0, round to 0\n",
    "    score_home = round(score_home)\n",
    "    if score_home < 0:\n",
    "        score_home = 0\n",
    "    score_away = round(score_away)\n",
    "    if score_away < 0:\n",
    "        score_away = 0\n",
    "    # append the scores to the list\n",
    "    scores.append([match[0], match[1], score_home, score_away])"
   ]
  },
  {
   "cell_type": "code",
   "execution_count": 20,
   "metadata": {},
   "outputs": [
    {
     "data": {
      "text/plain": [
       "[['Arsenal', 'Bournemouth', 3, 2],\n",
       " ['Arsenal', 'Brighton', 3, 2],\n",
       " ['Arsenal', 'Burnley', 1, 3],\n",
       " ['Arsenal', 'Cardiff', 3, 1],\n",
       " ['Arsenal', 'Chelsea', 3, 3],\n",
       " ['Arsenal', 'Crystal Palace', 4, 1],\n",
       " ['Arsenal', 'Everton', 3, 3],\n",
       " ['Arsenal', 'Fulham', 2, 0],\n",
       " ['Arsenal', 'Huddersfield', 2, 0],\n",
       " ['Arsenal', 'Leicester', 1, 0],\n",
       " ['Arsenal', 'Liverpool', 2, 0],\n",
       " ['Arsenal', 'Man City', 4, 3],\n",
       " ['Arsenal', 'Man United', 5, 1],\n",
       " ['Arsenal', 'Newcastle', 3, 3],\n",
       " ['Arsenal', 'Southampton', 4, 1],\n",
       " ['Arsenal', 'Tottenham', 2, 1],\n",
       " ['Arsenal', 'Watford', 2, 2],\n",
       " ['Arsenal', 'West Ham', 2, 2],\n",
       " ['Arsenal', 'Wolves', 2, 0],\n",
       " ['Bournemouth', 'Arsenal', 2, 3]]"
      ]
     },
     "execution_count": 20,
     "metadata": {},
     "output_type": "execute_result"
    }
   ],
   "source": [
    "scores[0:20]"
   ]
  },
  {
   "cell_type": "code",
   "execution_count": 22,
   "metadata": {},
   "outputs": [],
   "source": [
    "# save the scores to a csv file\n",
    "df_scores = pd.DataFrame(scores, columns=['HomeTeam', 'AwayTeam', 'FTHG', 'FTAG'])\n",
    "df_scores.to_csv(\"team_statistics/example_generated_scores.csv\", index=False)\n"
   ]
  },
  {
   "cell_type": "code",
   "execution_count": null,
   "metadata": {},
   "outputs": [],
   "source": []
  }
 ],
 "metadata": {
  "kernelspec": {
   "display_name": "Python 3.9.7 ('base')",
   "language": "python",
   "name": "python3"
  },
  "language_info": {
   "codemirror_mode": {
    "name": "ipython",
    "version": 3
   },
   "file_extension": ".py",
   "mimetype": "text/x-python",
   "name": "python",
   "nbconvert_exporter": "python",
   "pygments_lexer": "ipython3",
   "version": "3.9.7"
  },
  "orig_nbformat": 4,
  "vscode": {
   "interpreter": {
    "hash": "5af30e9e16ef45cf56fe7212a84c27a65c36d6841edf0bd9661d40f4090c043c"
   }
  }
 },
 "nbformat": 4,
 "nbformat_minor": 2
}
